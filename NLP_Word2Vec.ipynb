{
 "cells": [
  {
   "cell_type": "markdown",
   "id": "cfc4ecae",
   "metadata": {},
   "source": [
    "# Word2Vec Explanation"
   ]
  },
  {
   "cell_type": "code",
   "execution_count": 3,
   "id": "52fdd3e6",
   "metadata": {},
   "outputs": [],
   "source": [
    "import nltk\n",
    "import re"
   ]
  },
  {
   "cell_type": "code",
   "execution_count": 23,
   "id": "80108982",
   "metadata": {},
   "outputs": [],
   "source": [
    "from gensim.models import Word2Vec\n",
    "from nltk.corpus import stopwords"
   ]
  },
  {
   "cell_type": "code",
   "execution_count": 24,
   "id": "9941a35a",
   "metadata": {},
   "outputs": [],
   "source": [
    "paragraph = \"\"\"I have three visions for India. In 3000 years of our history, people from all over \n",
    "               the world have come and invaded us, captured our lands, conquered our minds. \n",
    "               From Alexander onwards, the Greeks, the Turks, the Moguls, the Portuguese, the British,\n",
    "               the French, the Dutch, all of them came and looted us, took over what was ours. \n",
    "               Yet we have not done this to any other nation. We have not conquered anyone. \n",
    "               We have not grabbed their land, their culture, \n",
    "               their history and tried to enforce our way of life on them. \n",
    "               Why? Because we respect the freedom of others.That is why my \n",
    "               first vision is that of freedom. I believe that India got its first vision of \n",
    "               this in 1857, when we started the War of Independence. It is this freedom that\n",
    "               we must protect and nurture and build on. If we are not free, no one will respect us.\n",
    "               My second vision for India’s development. For fifty years we have been a developing nation.\n",
    "               It is time we see ourselves as a developed nation. We are among the top 5 nations of the world\n",
    "               in terms of GDP. We have a 10 percent growth rate in most areas. Our poverty levels are falling.\n",
    "               Our achievements are being globally recognised today. Yet we lack the self-confidence to\n",
    "               see ourselves as a developed nation, self-reliant and self-assured. Isn’t this incorrect?\n",
    "               I have a third vision. India must stand up to the world. Because I believe that unless India \n",
    "               stands up to the world, no one will respect us. Only strength respects strength. We must be \n",
    "               strong not only as a military power but also as an economic power. Both must go hand-in-hand. \n",
    "               My good fortune was to have worked with three great minds. Dr. Vikram Sarabhai of the Dept. of \n",
    "               space, Professor Satish Dhawan, who succeeded him and Dr. Brahm Prakash, father of nuclear material.\n",
    "               I was lucky to have worked with all three of them closely and consider this the great opportunity of my life. \n",
    "               I see four milestones in my career\"\"\""
   ]
  },
  {
   "cell_type": "code",
   "execution_count": 25,
   "id": "cbdc7c94",
   "metadata": {},
   "outputs": [
    {
     "name": "stdout",
     "output_type": "stream",
     "text": [
      "i have three visions for india. in years of our history, people from all over the world have come and invaded us, captured our lands, conquered our minds. from alexander onwards, the greeks, the turks, the moguls, the portuguese, the british, the french, the dutch, all of them came and looted us, took over what was ours. yet we have not done this to any other nation. we have not conquered anyone. we have not grabbed their land, their culture, their history and tried to enforce our way of life on them. why? because we respect the freedom of others.that is why my first vision is that of freedom. i believe that india got its first vision of this in , when we started the war of independence. it is this freedom that we must protect and nurture and build on. if we are not free, no one will respect us. my second vision for india’s development. for fifty years we have been a developing nation. it is time we see ourselves as a developed nation. we are among the top nations of the world in terms of gdp. we have a percent growth rate in most areas. our poverty levels are falling. our achievements are being globally recognised today. yet we lack the self-confidence to see ourselves as a developed nation, self-reliant and self-assured. isn’t this incorrect? i have a third vision. india must stand up to the world. because i believe that unless india stands up to the world, no one will respect us. only strength respects strength. we must be strong not only as a military power but also as an economic power. both must go hand-in-hand. my good fortune was to have worked with three great minds. dr. vikram sarabhai of the dept. of space, professor satish dhawan, who succeeded him and dr. brahm prakash, father of nuclear material. i was lucky to have worked with all three of them closely and consider this the great opportunity of my life. i see four milestones in my career\n"
     ]
    }
   ],
   "source": [
    "# Preprocessing the data\n",
    "text = re.sub(r'\\[[0-9]*\\]',' ',paragraph)# removing patterns like eg :\"[1][45]\"\"\n",
    "text = re.sub(r'\\s+',' ',text) # Removing multiple space eg \"   \" converts to single space\n",
    "text = text.lower()# Lowering the letters RAJESh - rajesh\n",
    "text = re.sub(r'\\d',' ',text) # Removing digits \"1000\", \"56\"\n",
    "text = re.sub(r'\\s+',' ',text)\n",
    "print(text)"
   ]
  },
  {
   "cell_type": "code",
   "execution_count": 78,
   "id": "c0a51145",
   "metadata": {},
   "outputs": [
    {
     "name": "stdout",
     "output_type": "stream",
     "text": [
      "31 sentences extacted\n",
      "['i have three visions for india.', 'in years of our history, people from all over the world have come and invaded us, captured our lands, conquered our minds.', 'from alexander onwards, the greeks, the turks, the moguls, the portuguese, the british, the french, the dutch, all of them came and looted us, took over what was ours.', 'yet we have not done this to any other nation.', 'we have not conquered anyone.', 'we have not grabbed their land, their culture, their history and tried to enforce our way of life on them.', 'why?', 'because we respect the freedom of others.that is why my first vision is that of freedom.', 'i believe that india got its first vision of this in , when we started the war of independence.', 'it is this freedom that we must protect and nurture and build on.', 'if we are not free, no one will respect us.', 'my second vision for india’s development.', 'for fifty years we have been a developing nation.', 'it is time we see ourselves as a developed nation.', 'we are among the top nations of the world in terms of gdp.', 'we have a percent growth rate in most areas.', 'our poverty levels are falling.', 'our achievements are being globally recognised today.', 'yet we lack the self-confidence to see ourselves as a developed nation, self-reliant and self-assured.', 'isn’t this incorrect?', 'i have a third vision.', 'india must stand up to the world.', 'because i believe that unless india stands up to the world, no one will respect us.', 'only strength respects strength.', 'we must be strong not only as a military power but also as an economic power.', 'both must go hand-in-hand.', 'my good fortune was to have worked with three great minds.', 'dr. vikram sarabhai of the dept.', 'of space, professor satish dhawan, who succeeded him and dr. brahm prakash, father of nuclear material.', 'i was lucky to have worked with all three of them closely and consider this the great opportunity of my life.', 'i see four milestones in my career']\n"
     ]
    }
   ],
   "source": [
    "# Preparing the dataset\n",
    "sentences = nltk.sent_tokenize(text)# Converting to sentences and tokenization\n",
    "print(len(sentences),\"sentences extacted\")\n",
    "print (sentences)"
   ]
  },
  {
   "cell_type": "code",
   "execution_count": 79,
   "id": "b87c923f",
   "metadata": {},
   "outputs": [],
   "source": [
    "sentences = [nltk.word_tokenize(sentence) for sentence in sentences] # Convert sentences into words\n",
    "for i in range(len(sentences)):\n",
    "    sentences[i] = [word for word in sentences[i] if word not in stopwords.words('english')] # removing stopwords"
   ]
  },
  {
   "cell_type": "code",
   "execution_count": 80,
   "id": "07231dbd",
   "metadata": {},
   "outputs": [
    {
     "name": "stdout",
     "output_type": "stream",
     "text": [
      "[['three', 'visions', 'india', '.'], ['years', 'history', ',', 'people', 'world', 'come', 'invaded', 'us', ',', 'captured', 'lands', ',', 'conquered', 'minds', '.'], ['alexander', 'onwards', ',', 'greeks', ',', 'turks', ',', 'moguls', ',', 'portuguese', ',', 'british', ',', 'french', ',', 'dutch', ',', 'came', 'looted', 'us', ',', 'took', '.'], ['yet', 'done', 'nation', '.'], ['conquered', 'anyone', '.'], ['grabbed', 'land', ',', 'culture', ',', 'history', 'tried', 'enforce', 'way', 'life', '.'], ['?'], ['respect', 'freedom', 'others.that', 'first', 'vision', 'freedom', '.'], ['believe', 'india', 'got', 'first', 'vision', ',', 'started', 'war', 'independence', '.'], ['freedom', 'must', 'protect', 'nurture', 'build', '.'], ['free', ',', 'one', 'respect', 'us', '.'], ['second', 'vision', 'india', '’', 'development', '.'], ['fifty', 'years', 'developing', 'nation', '.'], ['time', 'see', 'developed', 'nation', '.'], ['among', 'top', 'nations', 'world', 'terms', 'gdp', '.'], ['percent', 'growth', 'rate', 'areas', '.'], ['poverty', 'levels', 'falling', '.'], ['achievements', 'globally', 'recognised', 'today', '.'], ['yet', 'lack', 'self-confidence', 'see', 'developed', 'nation', ',', 'self-reliant', 'self-assured', '.'], ['’', 'incorrect', '?'], ['third', 'vision', '.'], ['india', 'must', 'stand', 'world', '.'], ['believe', 'unless', 'india', 'stands', 'world', ',', 'one', 'respect', 'us', '.'], ['strength', 'respects', 'strength', '.'], ['must', 'strong', 'military', 'power', 'also', 'economic', 'power', '.'], ['must', 'go', 'hand-in-hand', '.'], ['good', 'fortune', 'worked', 'three', 'great', 'minds', '.'], ['dr.', 'vikram', 'sarabhai', 'dept', '.'], ['space', ',', 'professor', 'satish', 'dhawan', ',', 'succeeded', 'dr.', 'brahm', 'prakash', ',', 'father', 'nuclear', 'material', '.'], ['lucky', 'worked', 'three', 'closely', 'consider', 'great', 'opportunity', 'life', '.'], ['see', 'four', 'milestones', 'career']]\n"
     ]
    }
   ],
   "source": [
    "print(sentences)"
   ]
  },
  {
   "cell_type": "code",
   "execution_count": 81,
   "id": "b4dff924",
   "metadata": {},
   "outputs": [],
   "source": [
    "# Training the Word2Vec model\n",
    "model = Word2Vec(sentences, min_count=1)"
   ]
  },
  {
   "cell_type": "code",
   "execution_count": 82,
   "id": "c92bcd0e",
   "metadata": {},
   "outputs": [
    {
     "name": "stdout",
     "output_type": "stream",
     "text": [
      "['.', ',', 'india', 'vision', 'must', 'nation', 'world', 'us', 'three', 'freedom', 'respect', 'see', 'first', 'power', 'yet', '’', 'strength', 'worked', '?', 'life', 'believe', 'dr.', 'great', 'minds', 'one', 'years', 'history', 'developed', 'conquered', 'protect', 'others.that', 'war', 'nurture', 'independence', 'build', 'free', 'tried', 'got', 'started', 'way', 'enforce', 'took', 'culture', 'turks', 'visions', 'people', 'come', 'invaded', 'captured', 'lands', 'alexander', 'onwards', 'greeks', 'moguls', 'land', 'portuguese', 'british', 'french', 'dutch', 'came', 'looted', 'done', 'anyone', 'grabbed', 'second', 'career', 'development', 'respects', 'military', 'also', 'economic', 'go', 'hand-in-hand', 'good', 'fortune', 'vikram', 'sarabhai', 'dept', 'space', 'professor', 'satish', 'dhawan', 'succeeded', 'brahm', 'prakash', 'father', 'nuclear', 'material', 'lucky', 'closely', 'consider', 'opportunity', 'four', 'strong', 'stands', 'fifty', 'unless', 'developing', 'milestones', 'among', 'top', 'nations', 'terms', 'gdp', 'percent', 'growth', 'rate', 'areas', 'poverty', 'levels', 'falling', 'achievements', 'globally', 'recognised', 'today', 'lack', 'self-confidence', 'self-reliant', 'self-assured', 'incorrect', 'third', 'stand', 'time']\n"
     ]
    }
   ],
   "source": [
    "words = model.wv.index_to_key\n",
    "print(words)"
   ]
  },
  {
   "cell_type": "code",
   "execution_count": 83,
   "id": "e8190207",
   "metadata": {},
   "outputs": [],
   "source": [
    "vector = model.wv['war']"
   ]
  },
  {
   "cell_type": "code",
   "execution_count": 85,
   "id": "64a7c0ca",
   "metadata": {},
   "outputs": [
    {
     "name": "stdout",
     "output_type": "stream",
     "text": [
      "[-0.00219905 -0.00970885  0.00929075  0.00203636 -0.00116388 -0.00551955\n",
      " -0.0085126  -0.00989383  0.00894091 -0.00250522  0.00459427 -0.00452481\n",
      "  0.00995189  0.00366171  0.00103129 -0.00403834  0.00122027 -0.00265451\n",
      "  0.00735284  0.00447542  0.00099955  0.0034782   0.00372712 -0.00680036\n",
      "  0.00893242  0.00173499 -0.00579935  0.00866838 -0.00129286  0.00818304\n",
      " -0.0014927   0.00698649  0.00273452 -0.00436226 -0.00374683  0.00919046\n",
      "  0.00159645 -0.00599784  0.00034776 -0.00195135  0.00159242 -0.00771525\n",
      "  0.00738298  0.00131083  0.00787099  0.00445568 -0.00439675  0.00376054\n",
      " -0.0006357  -0.00984484  0.00825004  0.00964326  0.00965426 -0.00379659\n",
      " -0.00844202  0.00483581 -0.00765107  0.00853567  0.00275977  0.00560496\n",
      "  0.00611362  0.00046455 -0.00209463  0.000778    0.00983559 -0.00711718\n",
      " -0.00155744 -0.00235984  0.00487084  0.00645515 -0.0041403   0.00361816\n",
      " -0.00447258  0.00326611  0.0081738   0.00361967 -0.0045711  -0.00301938\n",
      "  0.00787179  0.00959686  0.00580789 -0.00326881 -0.00183876 -0.00624998\n",
      " -0.00429521  0.00336554 -0.00648911 -0.00661903  0.00811393  0.00950739\n",
      "  0.00814451  0.00150699 -0.00880125 -0.00759764  0.0015789  -0.00952675\n",
      " -0.00741688  0.00203283 -0.00292885 -0.00916266]\n"
     ]
    }
   ],
   "source": [
    "# Finding Word Vectors\n",
    "vector = model.wv['war']\n",
    "print(vector)"
   ]
  },
  {
   "cell_type": "code",
   "execution_count": 87,
   "id": "20bf3d11",
   "metadata": {},
   "outputs": [
    {
     "data": {
      "text/plain": [
       "[('visions', 0.18146507441997528),\n",
       " ('growth', 0.166349396109581),\n",
       " ('one', 0.1643451750278473),\n",
       " ('took', 0.1643296331167221),\n",
       " (',', 0.15887504816055298),\n",
       " ('fifty', 0.1472669541835785),\n",
       " ('developing', 0.14714020490646362),\n",
       " ('worked', 0.13810548186302185),\n",
       " ('development', 0.1376984417438507),\n",
       " ('time', 0.13293510675430298)]"
      ]
     },
     "execution_count": 87,
     "metadata": {},
     "output_type": "execute_result"
    }
   ],
   "source": [
    "# Most similar words\n",
    "similar = model.wv.most_similar('vikram')\n",
    "similar"
   ]
  },
  {
   "cell_type": "code",
   "execution_count": 88,
   "id": "30d90b76",
   "metadata": {},
   "outputs": [
    {
     "data": {
      "text/plain": [
       "[('rate', 0.17207378149032593),\n",
       " ('’', 0.1588246375322342),\n",
       " ('professor', 0.15752416849136353),\n",
       " ('material', 0.1459616720676422),\n",
       " ('great', 0.14304539561271667),\n",
       " ('unless', 0.14020974934101105),\n",
       " ('us', 0.12788507342338562),\n",
       " ('looted', 0.12448826432228088),\n",
       " ('self-reliant', 0.12188234180212021),\n",
       " ('worked', 0.11109071224927902)]"
      ]
     },
     "execution_count": 88,
     "metadata": {},
     "output_type": "execute_result"
    }
   ],
   "source": [
    "similar = model.wv.most_similar('war')\n",
    "similar"
   ]
  },
  {
   "cell_type": "code",
   "execution_count": 90,
   "id": "a6ce6cc6",
   "metadata": {},
   "outputs": [
    {
     "data": {
      "text/plain": [
       "[('go', 0.20366527140140533),\n",
       " ('self-reliant', 0.18309269845485687),\n",
       " ('yet', 0.1795947104692459),\n",
       " ('tried', 0.16392311453819275),\n",
       " ('hand-in-hand', 0.16243481636047363),\n",
       " ('areas', 0.15732510387897491),\n",
       " ('growth', 0.15093769133090973),\n",
       " ('people', 0.15041479468345642),\n",
       " ('good', 0.1378341168165207),\n",
       " ('british', 0.13602186739444733)]"
      ]
     },
     "execution_count": 90,
     "metadata": {},
     "output_type": "execute_result"
    }
   ],
   "source": [
    "similar = model.wv.most_similar('vision')\n",
    "similar"
   ]
  },
  {
   "cell_type": "code",
   "execution_count": 91,
   "id": "4bbda7e0",
   "metadata": {},
   "outputs": [
    {
     "data": {
      "text/plain": [
       "[('military', 0.370004802942276),\n",
       " ('took', 0.21221157908439636),\n",
       " ('greeks', 0.20217649638652802),\n",
       " ('three', 0.19961437582969666),\n",
       " ('prakash', 0.1892213374376297),\n",
       " ('developing', 0.18216250836849213),\n",
       " ('see', 0.17356351017951965),\n",
       " ('protect', 0.17105315625667572),\n",
       " ('must', 0.17062465846538544),\n",
       " ('recognised', 0.16197067499160767)]"
      ]
     },
     "execution_count": 91,
     "metadata": {},
     "output_type": "execute_result"
    }
   ],
   "source": [
    "similar = model.wv.most_similar('india')\n",
    "similar"
   ]
  },
  {
   "cell_type": "code",
   "execution_count": null,
   "id": "f46a9512",
   "metadata": {},
   "outputs": [],
   "source": []
  },
  {
   "cell_type": "code",
   "execution_count": null,
   "id": "dcc92965",
   "metadata": {},
   "outputs": [],
   "source": []
  }
 ],
 "metadata": {
  "kernelspec": {
   "display_name": "Python 3 (ipykernel)",
   "language": "python",
   "name": "python3"
  },
  "language_info": {
   "codemirror_mode": {
    "name": "ipython",
    "version": 3
   },
   "file_extension": ".py",
   "mimetype": "text/x-python",
   "name": "python",
   "nbconvert_exporter": "python",
   "pygments_lexer": "ipython3",
   "version": "3.9.13"
  }
 },
 "nbformat": 4,
 "nbformat_minor": 5
}
